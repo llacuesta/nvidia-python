{
  "nbformat": 4,
  "nbformat_minor": 0,
  "metadata": {
    "colab": {
      "provenance": [],
      "authorship_tag": "ABX9TyNbbyIsIoqVOnc+AZZywAqp",
      "include_colab_link": true
    },
    "kernelspec": {
      "name": "python3",
      "display_name": "Python 3"
    },
    "language_info": {
      "name": "python"
    }
  },
  "cells": [
    {
      "cell_type": "markdown",
      "metadata": {
        "id": "view-in-github",
        "colab_type": "text"
      },
      "source": [
        "<a href=\"https://colab.research.google.com/github/llacuesta/nvidia-python/blob/main/01_introduction.ipynb\" target=\"_parent\"><img src=\"https://colab.research.google.com/assets/colab-badge.svg\" alt=\"Open In Colab\"/></a>"
      ]
    },
    {
      "cell_type": "markdown",
      "source": [
        "**Intro To CUDA Python with Numba**\n",
        "\n",
        "Numba\n",
        "- accelarating numerically focused Python for CPUs or GPUs\n",
        "- function compiler, compiled functions only instead of full apps\n",
        "- type-specialized instead of generic data types\n",
        "- just-in-time, translating functions when they are first called for use in Jupyter notebooks\n",
        "- numerically-focused using NumPy"
      ],
      "metadata": {
        "id": "xsZXPCwGD0Sn"
      }
    },
    {
      "cell_type": "code",
      "source": [
        "from numba import jit\n",
        "import math\n",
        "\n",
        "@jit"
      ],
      "metadata": {
        "id": "S_bqnQU4EqRI"
      },
      "execution_count": null,
      "outputs": []
    }
  ]
}